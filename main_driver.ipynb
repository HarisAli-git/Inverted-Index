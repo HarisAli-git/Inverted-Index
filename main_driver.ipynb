{
 "cells": [
  {
   "cell_type": "markdown",
   "id": "45dd9225",
   "metadata": {},
   "source": [
    "# IR - Assignment 1\n",
    "\n",
    "## Group Members:\n",
    "### Haris Ali (18L-1247)\n",
    "### Muhammad Hassaan Arshad (18L-2149) "
   ]
  },
  {
   "cell_type": "code",
   "execution_count": 1,
   "id": "feb28e51",
   "metadata": {},
   "outputs": [],
   "source": [
    "import part1 as p1\n",
    "import part2 as p2\n",
    "\n",
    "def main():\n",
    "    \n",
    "    p1.tokenizer()\n",
    "    p2.doc_processing()"
   ]
  },
  {
   "cell_type": "code",
   "execution_count": 2,
   "id": "1e8d9d1c",
   "metadata": {},
   "outputs": [
    {
     "name": "stdout",
     "output_type": "stream",
     "text": [
      "\t\tAssigning DOC IDs.........! \n",
      "\n",
      "\t\tTokenizing File............! \n",
      "\n",
      "\tAssigning Term IDs.......!\n",
      "\n",
      "\tCreating Inverted Index...............!\n",
      "\n"
     ]
    }
   ],
   "source": [
    "if __name__ == \"__main__\":\n",
    "    main()"
   ]
  },
  {
   "cell_type": "code",
   "execution_count": null,
   "id": "00c97e22",
   "metadata": {},
   "outputs": [],
   "source": []
  }
 ],
 "metadata": {
  "kernelspec": {
   "display_name": "Python 3",
   "language": "python",
   "name": "python3"
  },
  "language_info": {
   "codemirror_mode": {
    "name": "ipython",
    "version": 3
   },
   "file_extension": ".py",
   "mimetype": "text/x-python",
   "name": "python",
   "nbconvert_exporter": "python",
   "pygments_lexer": "ipython3",
   "version": "3.8.8"
  }
 },
 "nbformat": 4,
 "nbformat_minor": 5
}
